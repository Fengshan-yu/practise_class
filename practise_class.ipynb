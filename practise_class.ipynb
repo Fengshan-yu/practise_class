{
 "cells": [
  {
   "cell_type": "code",
   "execution_count": 6,
   "id": "f4f9e2e4",
   "metadata": {},
   "outputs": [
    {
     "name": "stdout",
     "output_type": "stream",
     "text": [
      "Mon\n",
      "Tue\n",
      "Sun\n",
      "Sorry, I can't serve your request.\n"
     ]
    }
   ],
   "source": [
    "class WeekDayError(Exception):\n",
    "    pass\n",
    "\n",
    "class Weeker:\n",
    "        \n",
    "    def __init__(self, day):\n",
    "        day_list=[\"Mon\", \"Tue\", \"Wed\", \"Thu\", \"Fri\", \"Sat\", \"Sun\"]\n",
    "        if day in day_list:\n",
    "            self.__day = day\n",
    "        else:\n",
    "            raise WeekDayError\n",
    "       \n",
    "    def __str__(self):\n",
    "        return self.__day\n",
    "\n",
    "    def add_days(self, n):\n",
    "        day_list=[\"Mon\", \"Tue\", \"Wed\", \"Thu\", \"Fri\", \"Sat\", \"Sun\"]\n",
    "        day_index = day_list.index(self.__day)\n",
    "        new_index = (day_index+n)%7\n",
    "        self.__day = day_list[new_index]\n",
    "\n",
    "    def subtract_days(self, n):\n",
    "        day_list=[\"Mon\", \"Tue\", \"Wed\", \"Thu\", \"Fri\", \"Sat\", \"Sun\"]\n",
    "        day_index = day_list.index(self.__day)\n",
    "        new_index = (day_index-n)%7\n",
    "        self.__day = day_list[new_index]\n",
    "        \n",
    "try:\n",
    "    weekday = Weeker('Mon')\n",
    "    print(weekday)\n",
    "    weekday.add_days(15)\n",
    "    print(weekday)\n",
    "    weekday.subtract_days(23)\n",
    "    print(weekday)\n",
    "    weekday = Weeker('Monday')\n",
    "except WeekDayError:\n",
    "    print(\"Sorry, I can't serve your request.\")"
   ]
  },
  {
   "cell_type": "code",
   "execution_count": 2,
   "id": "4fa8c36c",
   "metadata": {},
   "outputs": [
    {
     "name": "stdout",
     "output_type": "stream",
     "text": [
      "1.4142135623730951\n",
      "1.4142135623730951\n"
     ]
    }
   ],
   "source": [
    "import math\n",
    "\n",
    "\n",
    "class Point:\n",
    "    def __init__(self, x=0.0, y=0.0):\n",
    "        self.__x = x\n",
    "        self.__y = y\n",
    "\n",
    "    def getx(self):\n",
    "        return self.__x\n",
    "\n",
    "    def gety(self):\n",
    "        return self.__y\n",
    "\n",
    "    def distance_from_xy(self, x, y):\n",
    "        x_distance = (self.__x - x)**2\n",
    "        y_distance = (self.__y - y)**2\n",
    "        return (x_distance + y_distance)**0.5\n",
    "\n",
    "    def distance_from_point(self, point):\n",
    "        x_distance = (self.__x - point.__x)**2\n",
    "        y_distance = (self.__y - point.__y)**2\n",
    "        return (x_distance + y_distance)**0.5\n",
    "\n",
    "\n",
    "\n",
    "point1 = Point(0, 0)\n",
    "point2 = Point(1, 1)\n",
    "print(point1.distance_from_point(point2))\n",
    "print(point2.distance_from_xy(2, 0))"
   ]
  },
  {
   "cell_type": "code",
   "execution_count": 3,
   "id": "648c858b",
   "metadata": {},
   "outputs": [
    {
     "name": "stdout",
     "output_type": "stream",
     "text": [
      "3.414213562373095\n"
     ]
    }
   ],
   "source": [
    "import math\n",
    "\n",
    "\n",
    "class Point:\n",
    "    def __init__(self, x=0.0, y=0.0):\n",
    "        self.__x = x\n",
    "        self.__y = y\n",
    "\n",
    "    def getx(self):\n",
    "        return self.__x\n",
    "\n",
    "    def gety(self):\n",
    "        return self.__y\n",
    "\n",
    "    def distance_from_xy(self, x, y):\n",
    "        x_distance = (self.__x - x)**2\n",
    "        y_distance = (self.__y - y)**2\n",
    "        return (x_distance + y_distance)**0.5\n",
    "\n",
    "    def distance_from_point(self, point):\n",
    "        x_distance = (self.__x - point.__x)**2\n",
    "        y_distance = (self.__y - point.__y)**2\n",
    "        return (x_distance + y_distance)**0.5\n",
    "\n",
    "\n",
    "class Triangle(Point):\n",
    "    def __init__(self, vertice1, vertice2, vertice3):\n",
    "        Point.__init__(self, x=0.0, y=0.0)\n",
    "        self.__vertice1 = vertice1\n",
    "        self.__vertice2 = vertice2\n",
    "        self.__vertice3 = vertice3\n",
    "        \n",
    "    def perimeter(self):\n",
    "        length1 = self.__vertice1.distance_from_point(self.__vertice2)\n",
    "        length2 = self.__vertice1.distance_from_point(self.__vertice3)\n",
    "        length3 = self.__vertice3.distance_from_point(self.__vertice2)\n",
    "        return length1 + length2 + length3\n",
    "\n",
    "triangle = Triangle(Point(0, 0), Point(1, 0), Point(0, 1))\n",
    "print(triangle.perimeter())"
   ]
  },
  {
   "cell_type": "code",
   "execution_count": null,
   "id": "29c7d056",
   "metadata": {},
   "outputs": [],
   "source": []
  }
 ],
 "metadata": {
  "kernelspec": {
   "display_name": "Python 3 (ipykernel)",
   "language": "python",
   "name": "python3"
  },
  "language_info": {
   "codemirror_mode": {
    "name": "ipython",
    "version": 3
   },
   "file_extension": ".py",
   "mimetype": "text/x-python",
   "name": "python",
   "nbconvert_exporter": "python",
   "pygments_lexer": "ipython3",
   "version": "3.9.7"
  }
 },
 "nbformat": 4,
 "nbformat_minor": 5
}
